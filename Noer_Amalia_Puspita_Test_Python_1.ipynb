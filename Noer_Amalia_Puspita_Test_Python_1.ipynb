{
  "nbformat": 4,
  "nbformat_minor": 5,
  "metadata": {
    "kernelspec": {
      "display_name": "Python 3",
      "language": "python",
      "name": "python3"
    },
    "language_info": {
      "codemirror_mode": {
        "name": "ipython",
        "version": 3
      },
      "file_extension": ".py",
      "mimetype": "text/x-python",
      "name": "python",
      "nbconvert_exporter": "python",
      "pygments_lexer": "ipython3",
      "version": "3.7.0"
    },
    "colab": {
      "provenance": []
    }
  },
  "cells": [
    {
      "cell_type": "markdown",
      "metadata": {
        "id": "87919d68"
      },
      "source": [
        "### Python 1 : Addition To String"
      ],
      "id": "87919d68"
    },
    {
      "cell_type": "markdown",
      "metadata": {
        "id": "c061c30a"
      },
      "source": [
        "### Task"
      ],
      "id": "c061c30a"
    },
    {
      "cell_type": "markdown",
      "metadata": {
        "id": "66fcf833"
      },
      "source": [
        "Your function name should be `add_str`.\n",
        "\n",
        "Given a string filled with integers separated by comma. Create a new number, whose digits are the integers inside the string. Then, add 1 to the new number. Then, separate the digits again to a string which consits of **single digit of\n",
        "integers**, separated by comma. This new string will be your output string. The output string **should not have zero as its first character**.  See the examples for clearer understanding."
      ],
      "id": "66fcf833"
    },
    {
      "cell_type": "markdown",
      "metadata": {
        "id": "aee24374"
      },
      "source": [
        "### Example 1:\n",
        "\n",
        "- Input = `'1,3,5'`\n",
        "- Output = `'1,3,6'`\n",
        "\n",
        "Since the input is `'1,3,5'`, then the new number created is 135. Add 135 with 1 so it becomes 136. Then, separate back 136 into each individual digits separated by comma. This becomes `'1,3,6'`. So, the expected output of your solution is `'1,3,6'`"
      ],
      "id": "aee24374"
    },
    {
      "cell_type": "markdown",
      "metadata": {
        "id": "e85af386"
      },
      "source": [
        "### Example 2:\n",
        "\n",
        "- Input = `'1,3,39'`\n",
        "- Output = `'1,3,4,0'`\n",
        "\n",
        "Since the input is `'1,3,39'`, then the new number created is 1339. Add 1339 with 1 so it becomes 1340. Then, separate back 1340 into each individual digits separated by comma. This becomes `'1,3,4,0'`. So, the expected output of your solution is `'1,3,4,0'`"
      ],
      "id": "e85af386"
    },
    {
      "cell_type": "markdown",
      "metadata": {
        "id": "bbeb3f41"
      },
      "source": [
        "### Example 1:\n",
        "\n",
        "- Input = `'0,1,3,39'`\n",
        "- Output = `'1,3,4,0'`\n",
        "\n",
        "Since the input is `'0,1,3,39'`, then the new number created is 1339. Add 1339 with 1 so it becomes 1340. Then, separate back 1340 into each individual digits separated by comma. This becomes `'1,3,4,0'`. So, the expected output of your solution is `'1,3,4,0'`. Remember, do not put a 'zero' in the beginning of your output."
      ],
      "id": "bbeb3f41"
    },
    {
      "cell_type": "markdown",
      "metadata": {
        "id": "e7807496"
      },
      "source": [
        "### Input Format\n",
        "\n",
        "The input is in the shape of a string."
      ],
      "id": "e7807496"
    },
    {
      "cell_type": "markdown",
      "metadata": {
        "id": "e9f0d6c5"
      },
      "source": [
        "### Output Format\n",
        "\n",
        "The output is in the shape of a string."
      ],
      "id": "e9f0d6c5"
    },
    {
      "cell_type": "markdown",
      "metadata": {
        "id": "f9173e59"
      },
      "source": [
        "### Sample Input"
      ],
      "id": "f9173e59"
    },
    {
      "cell_type": "markdown",
      "metadata": {
        "id": "c0526b8c"
      },
      "source": [
        "`'1,5,1,9'`"
      ],
      "id": "c0526b8c"
    },
    {
      "cell_type": "markdown",
      "metadata": {
        "id": "71fad9f8"
      },
      "source": [
        "### Sample Output\n",
        "`'1,5,2,0'`"
      ],
      "id": "71fad9f8"
    },
    {
      "cell_type": "markdown",
      "metadata": {
        "id": "8306d027"
      },
      "source": [
        "### Space for Work"
      ],
      "id": "8306d027"
    },
    {
      "cell_type": "markdown",
      "source": [
        "JAWABAN"
      ],
      "metadata": {
        "id": "LHbg35sYf6GS"
      },
      "id": "LHbg35sYf6GS"
    },
    {
      "cell_type": "code",
      "metadata": {
        "id": "6756b480"
      },
      "source": [
        "def add_str(input_string):\n",
        "    # Pisahkan string dengan masukan dengan koma\n",
        "    digits_list = input_string.split(',')\n",
        "\n",
        "    # Gabung daftar digit untuk membuat satu string\n",
        "    number_str = ''.join(digits_list)\n",
        "\n",
        "    # Ubah string menjadi bilangan bulat dan tambahkan 1\n",
        "    result_num = int(number_str) + 1\n",
        "\n",
        "    # Mengubah hasilnya kembali menjadi string\n",
        "    result_str = str(result_num)\n",
        "\n",
        "    # Memisahkan string menjadi beberapa digit dan buat daftar baru\n",
        "    result_digits = list(result_str)\n",
        "\n",
        "    # Menghapus semua angka nol di depan\n",
        "    while len(result_digits) > 0 and result_digits[0] == '0':\n",
        "        result_digits.pop(0)\n",
        "\n",
        "    # Gabungkan daftar digit dengan koma untuk membuat string keluaran\n",
        "    output_string = ','.join(result_digits)\n",
        "\n",
        "    return output_string\n",
        "\n",
        "\n",
        "    return"
      ],
      "id": "6756b480",
      "execution_count": 3,
      "outputs": []
    },
    {
      "cell_type": "markdown",
      "source": [
        "output= 1,3,6"
      ],
      "metadata": {
        "id": "Hl2cdFDlhtNO"
      },
      "id": "Hl2cdFDlhtNO"
    },
    {
      "cell_type": "code",
      "source": [
        "print(add_str('1,3,5'))"
      ],
      "metadata": {
        "colab": {
          "base_uri": "https://localhost:8080/"
        },
        "id": "PqYbOIiIf7-U",
        "outputId": "5872255d-9819-430e-e138-d0940cbd925d"
      },
      "id": "PqYbOIiIf7-U",
      "execution_count": 8,
      "outputs": [
        {
          "output_type": "stream",
          "name": "stdout",
          "text": [
            "1,3,6\n"
          ]
        }
      ]
    },
    {
      "cell_type": "markdown",
      "source": [
        "output = 1,3,4,0"
      ],
      "metadata": {
        "id": "o_NRPxDmh3bI"
      },
      "id": "o_NRPxDmh3bI"
    },
    {
      "cell_type": "code",
      "source": [
        "print(add_str('1,3,39'))"
      ],
      "metadata": {
        "colab": {
          "base_uri": "https://localhost:8080/"
        },
        "id": "vnUwHgwIhXu9",
        "outputId": "4ed0574b-f3c8-4527-9648-02f4e2b621ec"
      },
      "id": "vnUwHgwIhXu9",
      "execution_count": 5,
      "outputs": [
        {
          "output_type": "stream",
          "name": "stdout",
          "text": [
            "1,3,4,0\n"
          ]
        }
      ]
    },
    {
      "cell_type": "markdown",
      "source": [
        "output = 1,3,4,0"
      ],
      "metadata": {
        "id": "o75ExVVZiXXT"
      },
      "id": "o75ExVVZiXXT"
    },
    {
      "cell_type": "code",
      "source": [
        "print(add_str('0,1,3,39'))"
      ],
      "metadata": {
        "colab": {
          "base_uri": "https://localhost:8080/"
        },
        "id": "ElC_pdYehFHr",
        "outputId": "148fcc52-456e-4d8f-ed2c-aea0bd952d0b"
      },
      "id": "ElC_pdYehFHr",
      "execution_count": 6,
      "outputs": [
        {
          "output_type": "stream",
          "name": "stdout",
          "text": [
            "1,3,4,0\n"
          ]
        }
      ]
    },
    {
      "cell_type": "markdown",
      "source": [
        "output = 1,5,2,0"
      ],
      "metadata": {
        "id": "KehfFi6miPHP"
      },
      "id": "KehfFi6miPHP"
    },
    {
      "cell_type": "code",
      "source": [
        "print(add_str('1,5,1,9'))"
      ],
      "metadata": {
        "colab": {
          "base_uri": "https://localhost:8080/"
        },
        "id": "eDYpgsO2hlwp",
        "outputId": "c456e1b9-1b48-40c3-c7cb-178137ce61eb"
      },
      "id": "eDYpgsO2hlwp",
      "execution_count": 7,
      "outputs": [
        {
          "output_type": "stream",
          "name": "stdout",
          "text": [
            "1,5,2,0\n"
          ]
        }
      ]
    }
  ]
}